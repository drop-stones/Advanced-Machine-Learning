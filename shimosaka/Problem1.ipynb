{
  "nbformat": 4,
  "nbformat_minor": 0,
  "metadata": {
    "colab": {
      "name": "Problem1.ipynb",
      "provenance": [],
      "collapsed_sections": []
    },
    "kernelspec": {
      "name": "python3",
      "display_name": "Python 3"
    }
  },
  "cells": [
    {
      "cell_type": "markdown",
      "metadata": {
        "id": "6NdME6abMo01",
        "colab_type": "text"
      },
      "source": [
        "# Advanced Machine Learning Midterm Assignment"
      ]
    },
    {
      "cell_type": "code",
      "metadata": {
        "id": "ZI_NYP_KNsLE",
        "colab_type": "code",
        "colab": {}
      },
      "source": [
        "# import packages\n",
        "import numpy as np\n",
        "import matplotlib.pyplot as plt"
      ],
      "execution_count": 1,
      "outputs": []
    },
    {
      "cell_type": "markdown",
      "metadata": {
        "id": "IPdgktEXM_nh",
        "colab_type": "text"
      },
      "source": [
        "## Problem 1 (10pts)"
      ]
    },
    {
      "cell_type": "code",
      "metadata": {
        "id": "5pJu2cxkN7eV",
        "colab_type": "code",
        "colab": {
          "base_uri": "https://localhost:8080/",
          "height": 296
        },
        "outputId": "de6ad400-5622-414f-93e0-18f598afc038"
      },
      "source": [
        "# Dataset IV\n",
        "np.random.seed (1234)\n",
        "n = 200\n",
        "x = 3 * (np.random.rand (n, 4) - 0.5)\n",
        "y = (2 * x [:,0] - 1 * x [:,1] + 0.5 + 0.5 * np.random.randn (n)) > 0\n",
        "y = 2 * y - 1\n",
        "\n",
        "plt.plot (np.extract (y>0, x[:,0]), np.extract (y>0, x[:,1]), 'x')\n",
        "plt.plot (np.extract (y<0, x[:,0]), np.extract (y<0, x[:,1]), 'o')\n",
        "plt.xlabel ('x')\n",
        "plt.ylabel ('y')"
      ],
      "execution_count": 2,
      "outputs": [
        {
          "output_type": "execute_result",
          "data": {
            "text/plain": [
              "Text(0, 0.5, 'y')"
            ]
          },
          "metadata": {
            "tags": []
          },
          "execution_count": 2
        },
        {
          "output_type": "display_data",
          "data": {
            "image/png": "[encoded data removed]",
            "text/plain": [
              "<Figure size 432x288 with 1 Axes>"
            ]
          },
          "metadata": {
            "tags": [],
            "needs_background": "light"
          }
        }
      ]
    },
    {
      "cell_type": "markdown",
      "metadata": {
        "id": "FzSgyKBWXyNE",
        "colab_type": "text"
      },
      "source": [
        "### 1. Implement batch steepest gradient method"
      ]
    },
    {
      "cell_type": "code",
      "metadata": {
        "id": "fjCP1x_qrSpp",
        "colab_type": "code",
        "colab": {
          "base_uri": "https://localhost:8080/",
          "height": 299
        },
        "outputId": "245bc244-d454-4dff-885f-944b83840067"
      },
      "source": [
        "loss_hist_batch = []\n",
        "\n",
        "iter_num = 300\n",
        "w = np.ones (4)   # parameter vector\n",
        "lam = 0.01        # learning rate\n",
        "lip = 0.25 * max (x[:,0]**2)\n",
        "steepest_w = []\n",
        "\n",
        "for i in range (1, iter_num+1):\n",
        "  posterior = 1 / (1 + np.exp (-y * np.dot (w, x.T)))\n",
        "  #print (posterior.shape)\n",
        "  direction = - 1 / n * np.sum ((1 - posterior) * y * x.T, axis=1) + 2 * lam * w\n",
        "  #print (direction)\n",
        "  j = 1 / n * np.sum (np.log (1 + np.exp (-y * np.dot (w, x.T)))) + lam * np.dot (w, w.T)\n",
        "  steepest_w.append (w)\n",
        "  loss_hist_batch.append (j)\n",
        "  w = w - direction / np.sqrt (i) / lip\n",
        "\n",
        "print (j.shape)\n",
        "plt.plot (loss_hist_batch, 'bo-', linewidth=0.5, markersize=1)"
      ],
      "execution_count": 3,
      "outputs": [
        {
          "output_type": "stream",
          "text": [
            "()\n"
          ],
          "name": "stdout"
        },
        {
          "output_type": "execute_result",
          "data": {
            "text/plain": [
              "[<matplotlib.lines.Line2D at 0x7fb9fd453b70>]"
            ]
          },
          "metadata": {
            "tags": []
          },
          "execution_count": 3
        },
        {
          "output_type": "display_data",
          "data": {
            "image/png": "[encoded data removed]",
            "text/plain": [
              "<Figure size 432x288 with 1 Axes>"
            ]
          },
          "metadata": {
            "tags": [],
            "needs_background": "light"
          }
        }
      ]
    },
    {
      "cell_type": "markdown",
      "metadata": {
        "id": "pmHNg2XddfcT",
        "colab_type": "text"
      },
      "source": [
        "### 2. Implement Newton based method"
      ]
    },
    {
      "cell_type": "code",
      "metadata": {
        "id": "0vOUW7y1AF0o",
        "colab_type": "code",
        "colab": {
          "base_uri": "https://localhost:8080/",
          "height": 282
        },
        "outputId": "66e49874-5ec3-4c9d-ef4f-2f414bc42bb1"
      },
      "source": [
        "loss_hist_newton = []\n",
        "\n",
        "w = np.ones (4)\n",
        "lam = 0.01\n",
        "newton_w = []\n",
        "\n",
        "for i in range (iter_num):\n",
        "  posterior = 1 / (1 + np.exp (-y * np.dot (w, x.T)))\n",
        "\n",
        "  grad = - 1 / n * np.sum ((1 - posterior) * y * x.T, axis=1) + 2 * lam * w\n",
        "  hess = 1 / n * np.dot (posterior * (1 - posterior) * x.T, x) + 2 * lam\n",
        "  j = 1 / n * np.sum (np.log (1 + np.exp (-y * np.dot (w, x.T)))) + lam * np.dot (w, w.T)\n",
        "  newton_w.append (w)\n",
        "  loss_hist_newton.append (j)\n",
        "  w = w - np.dot (np.linalg.pinv (hess), grad) / np.sqrt (i + 10)\n",
        "\n",
        "#print (len(loss_hist_newton))\n",
        "plt.plot (loss_hist_newton, 'ro-', linewidth=0.5, markersize=1)"
      ],
      "execution_count": 4,
      "outputs": [
        {
          "output_type": "execute_result",
          "data": {
            "text/plain": [
              "[<matplotlib.lines.Line2D at 0x7fb9fd3c1da0>]"
            ]
          },
          "metadata": {
            "tags": []
          },
          "execution_count": 4
        },
        {
          "output_type": "display_data",
          "data": {
            "image/png": "[encoded data removed]",
            "text/plain": [
              "<Figure size 432x288 with 1 Axes>"
            ]
          },
          "metadata": {
            "tags": [],
            "needs_background": "light"
          }
        }
      ]
    },
    {
      "cell_type": "markdown",
      "metadata": {
        "id": "kQMs8HmIe76L",
        "colab_type": "text"
      },
      "source": [
        "### 3. Compare the performance above two methods"
      ]
    },
    {
      "cell_type": "code",
      "metadata": {
        "id": "-zO-7ljifCJE",
        "colab_type": "code",
        "colab": {
          "base_uri": "https://localhost:8080/",
          "height": 296
        },
        "outputId": "818afda2-b8c1-4acd-a378-888b845d55a2"
      },
      "source": [
        "show_iter = 50\n",
        "\n",
        "plt.plot (np.abs (loss_hist_batch[:show_iter] - min(loss_hist_batch)), 'bo-', linewidth=0.5, markersize=1, label='steepest')\n",
        "plt.plot (np.abs (loss_hist_newton[:show_iter] - min(loss_hist_newton)), 'ro-', linewidth=0.5, markersize=1, label='newton')\n",
        "plt.legend ()\n",
        "plt.xlabel ('iter')\n",
        "plt.ylabel ('diff from the gold weight')\n",
        "plt.semilogy ()"
      ],
      "execution_count": 5,
      "outputs": [
        {
          "output_type": "execute_result",
          "data": {
            "text/plain": [
              "[]"
            ]
          },
          "metadata": {
            "tags": []
          },
          "execution_count": 5
        },
        {
          "output_type": "display_data",
          "data": {
            "image/png": "[encoded data removed]",
            "text/plain": [
              "<Figure size 432x288 with 1 Axes>"
            ]
          },
          "metadata": {
            "tags": [],
            "needs_background": "light"
          }
        }
      ]
    },
    {
      "cell_type": "markdown",
      "metadata": {
        "id": "Czz-mjlez85r",
        "colab_type": "text"
      },
      "source": [
        "### 4. Implement Newton and simple steepest gradient method for multiclass version of logistic regression"
      ]
    },
    {
      "cell_type": "code",
      "metadata": {
        "id": "1ICIe0Y_0JsP",
        "colab_type": "code",
        "colab": {}
      },
      "source": [
        "# Dataset V\n",
        "\n",
        "n = 200\n",
        "x = 3 * (np.random.randn (n, 3) - 0.5)\n",
        "w = np.array ([[2, -1, 0.5],\n",
        "                [-3, 2, 1],\n",
        "                [1,  2, 3]])\n",
        "\n",
        "y = np.argmax (np.dot (np.hstack ([x[:, :2], np.ones ((n, 1))]), w.T)\n",
        "                         + 0.5 * np.random.randn (n, 3), axis=1)\n",
        "#print (y.shape)"
      ],
      "execution_count": 6,
      "outputs": []
    },
    {
      "cell_type": "code",
      "metadata": {
        "id": "Q4LbHMRfM4eE",
        "colab_type": "code",
        "colab": {
          "base_uri": "https://localhost:8080/",
          "height": 282
        },
        "outputId": "d90121de-4bbb-4f28-f3e4-bb3e480803eb"
      },
      "source": [
        "# steepest\n",
        "\n",
        "iter_num = 300\n",
        "lam = 0.01\n",
        "lip = 0.25 * max (x[:,0]**2)\n",
        "loss_hist_batch = []\n",
        "steepest_w = []\n",
        "\n",
        "for i in range (1, iter_num+1):\n",
        "  posterior = 1 / (1 + np.exp (-y.T * np.dot (w, x.T)))\n",
        "  # print (posterior.shape)\n",
        "  direction = 1 / n * np.dot (-y.T * (1 - posterior), x) + 2 * lam * w\n",
        "  # print (direction.shape)\n",
        "  j = 1 / n * np.sum (np.log (1 + np.exp (-y.T * np.dot (w, x.T))), axis=1) + lam * np.dot (w, w.T)\n",
        "  loss_hist_batch.append (j)\n",
        "  w = w - direction / np.sqrt (i) / lip\n",
        "\n",
        "loss_hist_batch00 = []\n",
        "for i in range (iter_num):\n",
        "  loss_hist_batch00.append (loss_hist_batch[i][0][0])\n",
        "\n",
        "plt.plot (loss_hist_batch00, 'bo-', linewidth=0.5, markersize=1)"
      ],
      "execution_count": 7,
      "outputs": [
        {
          "output_type": "execute_result",
          "data": {
            "text/plain": [
              "[<matplotlib.lines.Line2D at 0x7fb9fd29f4e0>]"
            ]
          },
          "metadata": {
            "tags": []
          },
          "execution_count": 7
        },
        {
          "output_type": "display_data",
          "data": {
            "image/png": "[encoded data removed]",
            "text/plain": [
              "<Figure size 432x288 with 1 Axes>"
            ]
          },
          "metadata": {
            "tags": [],
            "needs_background": "light"
          }
        }
      ]
    },
    {
      "cell_type": "code",
      "metadata": {
        "id": "IUTAhlekV6TW",
        "colab_type": "code",
        "colab": {
          "base_uri": "https://localhost:8080/",
          "height": 282
        },
        "outputId": "c81c05f7-4e2d-461e-a2f9-443c09db0c19"
      },
      "source": [
        "# newton\n",
        "\n",
        "iter_num = 300\n",
        "w = np.array ([[ 2, -1, 0.5],\n",
        "                [-3, 2,   1],\n",
        "                [ 1, 2,   3]])\n",
        "loss_hist_newton = []\n",
        "newton_w = []\n",
        "\n",
        "for i in range (1, iter_num+1):\n",
        "  posterior = 1 / (1 + np.exp (- y.T * np.dot (w, x.T)))\n",
        "  grad = - 1 / n * np.dot (y.T * (1 - posterior), x) + 2 * lam * w\n",
        "  hess = 1 / n * np.dot (np.dot (np.dot (posterior, (1 - posterior).T), x.T), x) + 2 * lam\n",
        "  # print (hess.shape)\n",
        "  j = 1 / n * np.sum (np.log (1 + np.exp (- y.T * np.dot (w, x.T)))) + lam * np.dot (w, w.T)\n",
        "  loss_hist_newton.append (j)\n",
        "  w = w + np.dot (np.linalg.inv (hess), grad) / np.sqrt (i)\n",
        "\n",
        "loss_hist_newton00 = []\n",
        "for i in range (iter_num):\n",
        "  loss_hist_newton00.append (loss_hist_newton[i][0][0])\n",
        "\n",
        "plt.plot (loss_hist_newton00, 'ro-', linewidth=0.5, markersize=1)"
      ],
      "execution_count": 8,
      "outputs": [
        {
          "output_type": "execute_result",
          "data": {
            "text/plain": [
              "[<matplotlib.lines.Line2D at 0x7fb9fd16f978>]"
            ]
          },
          "metadata": {
            "tags": []
          },
          "execution_count": 8
        },
        {
          "output_type": "display_data",
          "data": {
            "image/png": "[encoded data removed]",
            "text/plain": [
              "<Figure size 432x288 with 1 Axes>"
            ]
          },
          "metadata": {
            "tags": [],
            "needs_background": "light"
          }
        }
      ]
    },
    {
      "cell_type": "code",
      "metadata": {
        "id": "3RbYgBHEs3IL",
        "colab_type": "code",
        "colab": {
          "base_uri": "https://localhost:8080/",
          "height": 296
        },
        "outputId": "41dbf8da-4fee-4728-ec7c-08cf9b8da24d"
      },
      "source": [
        "# compare the perfomance\n",
        "\n",
        "show_iter = 300\n",
        "\n",
        "plt.plot (np.abs (loss_hist_batch00[:show_iter] - min (loss_hist_batch00[:show_iter])), 'bo-', linewidth=0.5, markersize=1, label='steepest')\n",
        "plt.plot (np.abs (loss_hist_newton00[:show_iter] - min (loss_hist_newton00[:show_iter])), 'ro-', linewidth=0.5, markersize=1, label='newton')\n",
        "plt.legend ()\n",
        "plt.xlabel ('label')\n",
        "plt.semilogy ()"
      ],
      "execution_count": 9,
      "outputs": [
        {
          "output_type": "execute_result",
          "data": {
            "text/plain": [
              "[]"
            ]
          },
          "metadata": {
            "tags": []
          },
          "execution_count": 9
        },
        {
          "output_type": "display_data",
          "data": {
            "image/png": "[encoded data removed]",
            "text/plain": [
              "<Figure size 432x288 with 1 Axes>"
            ]
          },
          "metadata": {
            "tags": [],
            "needs_background": "light"
          }
        }
      ]
    }
  ]
}